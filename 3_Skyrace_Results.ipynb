{
 "cells": [
  {
   "cell_type": "code",
   "execution_count": null,
   "metadata": {
    "collapsed": false,
    "nbpresent": {
     "id": "76619bbc-ab7f-4aef-822a-1c081a2f8350"
    }
   },
   "outputs": [],
   "source": [
    "%matplotlib inline\n",
    "import matplotlib.pyplot as plt, deal_fig_style as dfs, seaborn as sns\n",
    "import numpy as np, erosion_model as erosion, scipy.special as ss, pandas as pd\n",
    "# sns.set(style='whitegrid'), sns.set_context(\"paper\", font_scale=2., rc={\"lines.linewidth\": 1.3})\n",
    "figsize = dfs.set_style(plt.rcParams, plt.gca(), perso_linewidth=0.4)\n",
    "plt.close()"
   ]
  },
  {
   "cell_type": "code",
   "execution_count": null,
   "metadata": {
    "collapsed": false,
    "nbpresent": {
     "id": "895257ae-1947-45ff-b96f-e7c4f41e63cf"
    },
    "scrolled": true
   },
   "outputs": [],
   "source": [
    "race_data = pd.read_csv('Resultlist-25568-20160807222242.csv', sep=';')\n",
    "race_data"
   ]
  },
  {
   "cell_type": "code",
   "execution_count": null,
   "metadata": {
    "collapsed": false,
    "scrolled": true
   },
   "outputs": [],
   "source": [
    "# clean out racers who did not start or finish\n",
    "race_data = race_data[race_data['Total Time'] != 'DNF']\n",
    "race_data = race_data[race_data['Total Time'] != 'DNS']\n",
    "race_data"
   ]
  },
  {
   "cell_type": "code",
   "execution_count": null,
   "metadata": {
    "collapsed": false,
    "scrolled": true
   },
   "outputs": [],
   "source": [
    "# Get only racers who did your event\n",
    "race_data = race_data[race_data['Stage'] == 'Tromsdalstind Skyrace']\n",
    "\n",
    "# Get only men\n",
    "race_data = race_data[race_data['Class'] == 'Menn']\n",
    "\n",
    "race_data"
   ]
  },
  {
   "cell_type": "code",
   "execution_count": null,
   "metadata": {
    "collapsed": false
   },
   "outputs": [],
   "source": [
    "race_data[race_data['Surname'] == 'Deal']"
   ]
  },
  {
   "cell_type": "code",
   "execution_count": null,
   "metadata": {
    "collapsed": false
   },
   "outputs": [],
   "source": [
    "times = []\n",
    "for data in race_data['Total Time']:\n",
    "    if data != 0:\n",
    "        if data[2] != ':':\n",
    "            times.append(float(data[0]) + float(data[2:4])/60.)\n",
    "        if data[2] == ':':\n",
    "            times.append(float(data[0]) + float(data[3:5])/60.)\n",
    "\n",
    "fig = plt.figure(figsize=(8,5))\n",
    "sns.distplot(np.asarray(times), bins=15, kde_kws={'bw':.2})\n",
    "plt.plot(np.ones(10)*(4+29.5/60.), np.linspace(0,0.5,10), 'r')\n",
    "plt.xlabel('Hours')"
   ]
  }
 ],
 "metadata": {
  "anaconda-cloud": {},
  "celltoolbar": "Raw Cell Format",
  "kernelspec": {
   "display_name": "Python 2",
   "language": "python",
   "name": "python2"
  },
  "language_info": {
   "codemirror_mode": {
    "name": "ipython",
    "version": 2
   },
   "file_extension": ".py",
   "mimetype": "text/x-python",
   "name": "python",
   "nbconvert_exporter": "python",
   "pygments_lexer": "ipython2",
   "version": "2.7.11"
  }
 },
 "nbformat": 4,
 "nbformat_minor": 0
}
