{
 "cells": [
  {
   "cell_type": "code",
   "execution_count": 1,
   "metadata": {
    "collapsed": false,
    "slideshow": {
     "slide_type": "slide"
    }
   },
   "outputs": [],
   "source": [
    "import pandas as pd\n",
    "import folium\n",
    "from matplotlib.colors import Normalize, rgb2hex\n",
    "import matplotlib.cm as cm"
   ]
  },
  {
   "cell_type": "code",
   "execution_count": 4,
   "metadata": {
    "collapsed": false,
    "slideshow": {
     "slide_type": "slide"
    }
   },
   "outputs": [
    {
     "name": "stderr",
     "output_type": "stream",
     "text": [
      "/anaconda/lib/python2.7/site-packages/ipykernel/__main__.py:11: FutureWarning: circle_marker is deprecated. Use add_children(CircleMarker) instead\n",
      "/anaconda/lib/python2.7/site-packages/ipykernel/__main__.py:12: FutureWarning: Map.create_map is deprecated. Use Map.save instead\n"
     ]
    }
   ],
   "source": [
    "data = pd.read_csv('http://earthquake.usgs.gov/earthquakes/feed/v1.0/summary/all_day.csv')\n",
    "norm = Normalize(data['mag'].min(), data['mag'].max())\n",
    "\n",
    "map = folium.Map(location=[-40, 20], zoom_start=5)\n",
    "for eq in data.iterrows():\n",
    "    color = rgb2hex(cm.OrRd(norm(float(eq[1]['mag']))))\n",
    "    map.circle_marker([eq[1]['latitude'], eq[1]['longitude']], \n",
    "                    popup=eq[1]['place'], \n",
    "                    radius=20000*float(eq[1]['mag']),\n",
    "                    line_color=color,\n",
    "                    fill_color=color)\n",
    "map.create_map(path='results_earthquake.html')\n",
    "# need to replace CDN with https URLs\n",
    "with open('results_earthquake.html', 'r') as f:\n",
    "    contents = f.read()\n",
    "    contents = contents.replace(\"http://cdn.leafletjs.com/leaflet-0.5/\", \"//cdnjs.cloudflare.com/ajax/libs/leaflet/0.7.7/\")\n",
    "    with open('results_earthquake2.html', 'w') as f:\n",
    "        f.writelines(contents)"
   ]
  },
  {
   "cell_type": "code",
   "execution_count": 5,
   "metadata": {
    "collapsed": false
   },
   "outputs": [
    {
     "data": {
      "text/html": [
       "<iframe width=\"100%\" height=\"500\" src=\"https://app.dominodatalab.com/r00sj3/jupyter/raw/latest/results/earthquake2.html?inline=true\"></iframe>"
      ],
      "text/plain": [
       "<IPython.core.display.HTML object>"
      ]
     },
     "metadata": {},
     "output_type": "display_data"
    }
   ],
   "source": [
    "%%HTML\n",
    "<iframe width=\"100%\" height=\"500\" src=\"https://app.dominodatalab.com/r00sj3/jupyter/raw/latest/results/earthquake2.html?inline=true\"></iframe>"
   ]
  }
 ],
 "metadata": {
  "kernelspec": {
   "display_name": "Python 2",
   "language": "python",
   "name": "python2"
  },
  "language_info": {
   "codemirror_mode": {
    "name": "ipython",
    "version": 2
   },
   "file_extension": ".py",
   "mimetype": "text/x-python",
   "name": "python",
   "nbconvert_exporter": "python",
   "pygments_lexer": "ipython2",
   "version": "2.7.11"
  }
 },
 "nbformat": 4,
 "nbformat_minor": 0
}
